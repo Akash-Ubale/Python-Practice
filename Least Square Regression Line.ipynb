{
 "cells": [
  {
   "cell_type": "markdown",
   "metadata": {},
   "source": [
    "    Input:\n",
    "            95 85\n",
    "            85 95\n",
    "            80 70\n",
    "            70 65\n",
    "            60 70"
   ]
  },
  {
   "cell_type": "markdown",
   "metadata": {},
   "source": [
    "Consider the linear equation to be \n",
    "$$ y = a + bX $$"
   ]
  },
  {
   "cell_type": "code",
   "execution_count": 33,
   "metadata": {},
   "outputs": [
    {
     "name": "stdout",
     "output_type": "stream",
     "text": [
      "95 85\n",
      "85 95\n",
      "80 70\n",
      "70 65\n",
      "60 70\n",
      "78.288\n"
     ]
    }
   ],
   "source": [
    "x = []\n",
    "y = []\n",
    "\n",
    "for i in range(5):\n",
    "    a,b = input().strip().split(\" \")\n",
    "    x.append(int(a))\n",
    "    y.append(int(b))\n",
    "\n",
    "a = 0\n",
    "b = 0\n",
    "\n",
    "x_bar = sum(x)/len(x)\n",
    "#print(\"x_bar : \",x_bar)\n",
    "y_bar = sum(y)/len(y)\n",
    "#print(\"y_bar : \",y_bar)\n",
    "\n",
    "#print(\"x:\", x)\n",
    "#print(\"y:\", y)\n",
    "\n",
    "sum_x_squared = sum([i**2 for i in x])\n",
    "sum_xy = sum([x[i]*y[i] for i in range(len(x))])\n",
    "\n",
    "n = len(x)\n",
    "\n",
    "b = (n*sum_xy - (sum(x)*sum(y)))/(n*sum_x_squared - sum(x)**2)\n",
    "\n",
    "a = y_bar - (b*x_bar)\n",
    "\n",
    "y = a + b*80\n",
    "print(round(y, 3))"
   ]
  },
  {
   "cell_type": "code",
   "execution_count": null,
   "metadata": {},
   "outputs": [],
   "source": []
  },
  {
   "cell_type": "code",
   "execution_count": null,
   "metadata": {},
   "outputs": [],
   "source": []
  }
 ],
 "metadata": {
  "kernelspec": {
   "display_name": "Python 3",
   "language": "python",
   "name": "python3"
  },
  "language_info": {
   "codemirror_mode": {
    "name": "ipython",
    "version": 3
   },
   "file_extension": ".py",
   "mimetype": "text/x-python",
   "name": "python",
   "nbconvert_exporter": "python",
   "pygments_lexer": "ipython3",
   "version": "3.7.7"
  }
 },
 "nbformat": 4,
 "nbformat_minor": 4
}
