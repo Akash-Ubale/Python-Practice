{
 "cells": [
  {
   "cell_type": "markdown",
   "metadata": {},
   "source": [
    "You are given a space separated list of numbers. Your task is to print a reversed NumPy array\n",
    "\n",
    "    input Format:\n",
    "    1 2 8 6 9 -11 -56\n",
    "    \n",
    "    output Format:\n",
    "    [-56. -11. 9. 6. 8. 2. 1.]"
   ]
  },
  {
   "cell_type": "code",
   "execution_count": 6,
   "metadata": {},
   "outputs": [
    {
     "name": "stdout",
     "output_type": "stream",
     "text": [
      "1 2 3 4 -9\n",
      "[-9.  4.  3.  2.  1.]\n"
     ]
    }
   ],
   "source": [
    "import numpy\n",
    "def arrays(arr):\n",
    "    arr = numpy.array(arr, float)\n",
    "    result = arr[::-1]\n",
    "    \n",
    "    return result\n",
    "\n",
    "arr = input().strip().split(' ')\n",
    "result = arrays(arr)\n",
    "print(result)"
   ]
  },
  {
   "cell_type": "code",
   "execution_count": null,
   "metadata": {},
   "outputs": [],
   "source": []
  },
  {
   "cell_type": "code",
   "execution_count": null,
   "metadata": {},
   "outputs": [],
   "source": []
  }
 ],
 "metadata": {
  "kernelspec": {
   "display_name": "Python 3",
   "language": "python",
   "name": "python3"
  },
  "language_info": {
   "codemirror_mode": {
    "name": "ipython",
    "version": 3
   },
   "file_extension": ".py",
   "mimetype": "text/x-python",
   "name": "python",
   "nbconvert_exporter": "python",
   "pygments_lexer": "ipython3",
   "version": "3.7.7"
  }
 },
 "nbformat": 4,
 "nbformat_minor": 4
}
