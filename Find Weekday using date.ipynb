{
 "cells": [
  {
   "cell_type": "markdown",
   "metadata": {},
   "source": [
    "Given a date in _MM DD YYYY_ format, find what the day is (in capital letters) on that date. \n",
    "\n",
    "2000 < date < 3000\n",
    "\n",
    "For example :\n",
    "\n",
    "    Input:\n",
    "    06 05 2015\n",
    "    \n",
    "    Output:\n",
    "    MONDAY"
   ]
  },
  {
   "cell_type": "code",
   "execution_count": 15,
   "metadata": {},
   "outputs": [
    {
     "name": "stdout",
     "output_type": "stream",
     "text": [
      "09 19 2020\n",
      "SATURDAY\n"
     ]
    }
   ],
   "source": [
    "import calendar\n",
    "m, d, y = map(int, input().split(\" \"))\n",
    "day = calendar.weekday(y, m, d)\n",
    "weekdays = [\"MONDAY\", \"TUESDAY\", \"WEDNESDAY\", 'THURSDAY', 'FRIDAY','SATURDAY','SUNDAY']\n",
    "print(weekdays[day])"
   ]
  }
 ],
 "metadata": {
  "kernelspec": {
   "display_name": "Python 3",
   "language": "python",
   "name": "python3"
  },
  "language_info": {
   "codemirror_mode": {
    "name": "ipython",
    "version": 3
   },
   "file_extension": ".py",
   "mimetype": "text/x-python",
   "name": "python",
   "nbconvert_exporter": "python",
   "pygments_lexer": "ipython3",
   "version": "3.7.7"
  }
 },
 "nbformat": 4,
 "nbformat_minor": 4
}
