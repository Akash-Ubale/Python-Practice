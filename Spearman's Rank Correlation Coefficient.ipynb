{
 "cells": [
  {
   "cell_type": "markdown",
   "metadata": {},
   "source": [
    "# Calculate Spearman's Rank Correlation Coefficient"
   ]
  },
  {
   "cell_type": "markdown",
   "metadata": {},
   "source": [
    "    Input: \n",
    "            10\n",
    "            10 9.8 8 7.8 7.7 1.7 6 5 1.4 2 \n",
    "            200 44 32 24 22 17 15 12 8 4"
   ]
  },
  {
   "cell_type": "code",
   "execution_count": 2,
   "metadata": {},
   "outputs": [
    {
     "name": "stdout",
     "output_type": "stream",
     "text": [
      "10\n",
      "10 9.8 8 7.8 7.7 1.7 6 5 1.4 2 \n",
      "200 44 32 24 22 17 15 12 8 4\n",
      "Spearman's Rank Correlation Coefficient :  0.903\n"
     ]
    }
   ],
   "source": [
    "n = int(input())\n",
    "a = list(map(float, input().strip().split(\" \")))\n",
    "b = list(map(float, input().strip().split(\" \")))\n",
    "\n",
    "s_a = sorted(a)\n",
    "#print(\"a: \",a)\n",
    "#print(\"sorted a: \", s_a)\n",
    "indices_a = []\n",
    "for i in a:\n",
    "    indices_a.append(s_a.index(i)+1)\n",
    "#print(\"indices_a: \", indices_a)\n",
    "\n",
    "s_b = sorted(b)\n",
    "#print(\"b: \",b)\n",
    "#print(\"sorted b: \", s_b)\n",
    "indices_b = []\n",
    "for i in b:\n",
    "    indices_b.append(s_b.index(i)+1)\n",
    "#print(\"indices_b: \", indices_b)\n",
    "\n",
    "sum_d2 = 0\n",
    "for i in range(n):\n",
    "    sum_d2 += (indices_a[i] - indices_b[i])**2\n",
    "#print(\"sum_d2 : \", sum_d2)\n",
    "\n",
    "r_xy = 1-((6*sum_d2)/(n*(n**2-1)))\n",
    "print(\"Spearman's Rank Correlation Coefficient : \",round(r_xy,3))\n"
   ]
  },
  {
   "cell_type": "code",
   "execution_count": null,
   "metadata": {},
   "outputs": [],
   "source": []
  }
 ],
 "metadata": {
  "kernelspec": {
   "display_name": "Python 3",
   "language": "python",
   "name": "python3"
  },
  "language_info": {
   "codemirror_mode": {
    "name": "ipython",
    "version": 3
   },
   "file_extension": ".py",
   "mimetype": "text/x-python",
   "name": "python",
   "nbconvert_exporter": "python",
   "pygments_lexer": "ipython3",
   "version": "3.7.7"
  }
 },
 "nbformat": 4,
 "nbformat_minor": 4
}
