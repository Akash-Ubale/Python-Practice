{
 "cells": [
  {
   "cell_type": "markdown",
   "metadata": {},
   "source": [
    "Given an integer, $n$, print the following values \n",
    "1. Decimal\n",
    "2. Octal\n",
    "3. Hexadecimal (capitalized)\n",
    "4. Binary\n",
    "\n",
    "        Sample Input\n",
    "        17\n",
    "        \n",
    "        Sampel output\n",
    "        1     1     1     1\n",
    "        2     2     2    10\n",
    "        3     3     3    11\n",
    "        4     4     4   100\n",
    "        5     5     5   101\n",
    "        6     6     6   110\n",
    "        7     7     7   111\n",
    "        8    10     8  1000\n",
    "        9    11     9  1001\n",
    "       10    12     A  1010\n",
    "       11    13     B  1011\n",
    "       12    14     C  1100\n",
    "       13    15     D  1101\n",
    "       14    16     E  1110\n",
    "       15    17     F  1111\n",
    "       16    20    10 10000\n",
    "       17    21    11 10001  \n",
    "Each printed value must be formatted to the width of the binary value of $n$."
   ]
  },
  {
   "cell_type": "code",
   "execution_count": 45,
   "metadata": {},
   "outputs": [
    {
     "name": "stdout",
     "output_type": "stream",
     "text": [
      "17\n",
      "    1     1     1     1\n",
      "    2     2     2    10\n",
      "    3     3     3    11\n",
      "    4     4     4   100\n",
      "    5     5     5   101\n",
      "    6     6     6   110\n",
      "    7     7     7   111\n",
      "    8    10     8  1000\n",
      "    9    11     9  1001\n",
      "   10    12     A  1010\n",
      "   11    13     B  1011\n",
      "   12    14     C  1100\n",
      "   13    15     D  1101\n",
      "   14    16     E  1110\n",
      "   15    17     F  1111\n",
      "   16    20    10 10000\n",
      "   17    21    11 10001\n"
     ]
    }
   ],
   "source": [
    "# Solution\n",
    "def print_formatted(n):\n",
    "    no_space = len(bin(n)[2:])\n",
    "\n",
    "    for i in range(1,n+1):\n",
    "        deci = str(i)\n",
    "        octal = str(oct(i)[2:])\n",
    "        hexa = str(hex(i)[2:])\n",
    "        if hexa[-1].isalpha():\n",
    "            hexa = hexa.upper()\n",
    "        binary = str(bin(i)[2:])\n",
    "\n",
    "        print(\"\",deci.rjust(no_space-1, \" \"), end=\"\")\n",
    "        print(\"\",octal.rjust(no_space, \" \"), end=\"\")\n",
    "        print(\"\",hexa.rjust(no_space, \" \"), end=\"\")\n",
    "        print(\"\",binary.rjust(no_space, \" \"))\n",
    "    \n",
    "    \n",
    "if __name__ == '__main__':\n",
    "    n = int(input())\n",
    "    print_formatted(n)"
   ]
  },
  {
   "cell_type": "code",
   "execution_count": null,
   "metadata": {},
   "outputs": [],
   "source": []
  }
 ],
 "metadata": {
  "kernelspec": {
   "display_name": "Python 3",
   "language": "python",
   "name": "python3"
  },
  "language_info": {
   "codemirror_mode": {
    "name": "ipython",
    "version": 3
   },
   "file_extension": ".py",
   "mimetype": "text/x-python",
   "name": "python",
   "nbconvert_exporter": "python",
   "pygments_lexer": "ipython3",
   "version": "3.7.7"
  }
 },
 "nbformat": 4,
 "nbformat_minor": 4
}
