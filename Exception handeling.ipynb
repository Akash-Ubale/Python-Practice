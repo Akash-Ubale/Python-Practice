{
 "cells": [
  {
   "cell_type": "markdown",
   "metadata": {},
   "source": [
    "You are given two values X and Y.\n",
    "Perform integer division and print X/Y.\n",
    "\n",
    "Input Format\n",
    "\n",
    "The first line contains N, the number of test cases.\n",
    "The next N lines each contain the space separated values of X and Y.\n",
    "\n",
    "Output Format\n",
    "\n",
    "Print the value of X/Y.\n",
    "In the case of ZeroDivisionError or ValueError, print the error code.\n",
    "\n",
    "    3\n",
    "    1 0\n",
    "    2 $\n",
    "    3 1"
   ]
  },
  {
   "cell_type": "code",
   "execution_count": 6,
   "metadata": {},
   "outputs": [
    {
     "name": "stdout",
     "output_type": "stream",
     "text": [
      "3\n",
      "1 0\n",
      "Error Code: integer division or modulo by zero\n",
      "2 $\n",
      "Error Code: invalid literal for int() with base 10: '$'\n",
      "3 1\n",
      "3\n"
     ]
    }
   ],
   "source": [
    "for i in range(int(input())):\n",
    "    try:\n",
    "        a,b=map(int,input().split())\n",
    "        print(a//b)\n",
    "    except Exception as e:\n",
    "        print(\"Error Code:\",e)"
   ]
  },
  {
   "cell_type": "code",
   "execution_count": null,
   "metadata": {},
   "outputs": [],
   "source": []
  }
 ],
 "metadata": {
  "kernelspec": {
   "display_name": "Python 3",
   "language": "python",
   "name": "python3"
  },
  "language_info": {
   "codemirror_mode": {
    "name": "ipython",
    "version": 3
   },
   "file_extension": ".py",
   "mimetype": "text/x-python",
   "name": "python",
   "nbconvert_exporter": "python",
   "pygments_lexer": "ipython3",
   "version": "3.7.7"
  }
 },
 "nbformat": 4,
 "nbformat_minor": 4
}
